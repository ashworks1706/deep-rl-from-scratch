{
 "cells": [
  {
   "cell_type": "markdown",
   "id": "18b8f0f5",
   "metadata": {},
   "source": [
    "# RL from Scratch\n",
    "\n",
    "In this notebook, I will start with history of Reinforcement learning, the importance in real world, then go into the foundations. DQN and DDPG's explanation will have the math, code and explanations on how it's done, finally in the end we'll experiment with some cases.\n"
   ]
  },
  {
   "cell_type": "markdown",
   "id": "07d27c6e",
   "metadata": {},
   "source": [
    "## Foundations of Reinforcement Learning"
   ]
  },
  {
   "cell_type": "markdown",
   "id": "07df598a",
   "metadata": {},
   "source": [
    "### History of RL"
   ]
  },
  {
   "cell_type": "markdown",
   "id": "acf258ed",
   "metadata": {},
   "source": [
    "explain about history of reinforcemetn learning and how it was brought up, major breakthroughts, just briefly"
   ]
  },
  {
   "cell_type": "markdown",
   "id": "2bbd54fe",
   "metadata": {},
   "source": [
    "### Why RL matters?"
   ]
  },
  {
   "cell_type": "markdown",
   "id": "11414ab2",
   "metadata": {},
   "source": [
    "explain the application of RL and importance of it in depth give very detailed examples to really give the mthe reason to understand the RL in depth and why its important"
   ]
  },
  {
   "cell_type": "markdown",
   "id": "8a0ab4be",
   "metadata": {},
   "source": [
    "### Overview of RL family"
   ]
  },
  {
   "cell_type": "markdown",
   "id": "ba933cf1",
   "metadata": {},
   "source": [
    "<img src=\"/assets/overview1.png\"></img>"
   ]
  },
  {
   "cell_type": "markdown",
   "id": "bfc3cab4",
   "metadata": {},
   "source": [
    "<img src=\"/assets/overview2.png\"></img>"
   ]
  },
  {
   "cell_type": "markdown",
   "id": "c88f9622",
   "metadata": {},
   "source": [
    "show overview of RL, the basic components of RL and algorithms "
   ]
  },
  {
   "cell_type": "markdown",
   "id": "93efff62",
   "metadata": {},
   "source": []
  }
 ],
 "metadata": {
  "language_info": {
   "name": "python"
  }
 },
 "nbformat": 4,
 "nbformat_minor": 5
}
